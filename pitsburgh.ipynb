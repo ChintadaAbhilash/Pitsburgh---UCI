{
 "cells": [
  {
   "cell_type": "markdown",
   "metadata": {},
   "source": [
    "Getting the data "
   ]
  },
  {
   "cell_type": "code",
   "execution_count": 146,
   "metadata": {},
   "outputs": [
    {
     "name": "stdout",
     "output_type": "stream",
     "text": [
      "Requirement already satisfied: theano in /opt/anaconda3/lib/python3.6/site-packages (1.0.4)\n",
      "Requirement already satisfied: numpy>=1.9.1 in /opt/anaconda3/lib/python3.6/site-packages (from theano) (1.14.5)\n",
      "Requirement already satisfied: scipy>=0.14 in /opt/anaconda3/lib/python3.6/site-packages (from theano) (1.0.0)\n",
      "Requirement already satisfied: six>=1.9.0 in /opt/DL/protobuf/lib/python3.6/site-packages/six-1.11.0-py3.6.egg (from theano) (1.11.0)\n",
      "\u001b[33mYou are using pip version 18.0, however version 19.0.3 is available.\n",
      "You should consider upgrading via the 'pip install --upgrade pip' command.\u001b[0m\n"
     ]
    }
   ],
   "source": [
    "!pip install theano"
   ]
  },
  {
   "cell_type": "code",
   "execution_count": 1,
   "metadata": {},
   "outputs": [
    {
     "name": "stdout",
     "output_type": "stream",
     "text": [
      "--2019-04-09 04:59:13--  https://archive.ics.uci.edu/ml/machine-learning-databases/bridges/bridges.data.version1\n",
      "Resolving archive.ics.uci.edu (archive.ics.uci.edu)... 128.195.10.252\n",
      "Connecting to archive.ics.uci.edu (archive.ics.uci.edu)|128.195.10.252|:443... connected.\n",
      "HTTP request sent, awaiting response... 200 OK\n",
      "Length: 6128 (6.0K) [application/x-httpd-php]\n",
      "Saving to: 'bridges.data.version1'\n",
      "\n",
      "bridges.data.versio 100%[===================>]   5.98K  --.-KB/s    in 0s      \n",
      "\n",
      "2019-04-09 04:59:14 (69.1 MB/s) - 'bridges.data.version1' saved [6128/6128]\n",
      "\n"
     ]
    }
   ],
   "source": [
    "!wget https://archive.ics.uci.edu/ml/machine-learning-databases/bridges/bridges.data.version1"
   ]
  },
  {
   "cell_type": "code",
   "execution_count": 2,
   "metadata": {},
   "outputs": [
    {
     "name": "stdout",
     "output_type": "stream",
     "text": [
      "--2019-04-09 04:59:26--  https://archive.ics.uci.edu/ml/machine-learning-databases/bridges/bridges.data.version2\n",
      "Resolving archive.ics.uci.edu (archive.ics.uci.edu)... 128.195.10.252\n",
      "Connecting to archive.ics.uci.edu (archive.ics.uci.edu)|128.195.10.252|:443... connected.\n",
      "HTTP request sent, awaiting response... 200 OK\n",
      "Length: 6494 (6.3K) [application/x-httpd-php]\n",
      "Saving to: 'bridges.data.version2'\n",
      "\n",
      "bridges.data.versio 100%[===================>]   6.34K  --.-KB/s    in 0s      \n",
      "\n",
      "2019-04-09 04:59:26 (137 MB/s) - 'bridges.data.version2' saved [6494/6494]\n",
      "\n"
     ]
    }
   ],
   "source": [
    "!wget https://archive.ics.uci.edu/ml/machine-learning-databases/bridges/bridges.data.version2"
   ]
  },
  {
   "cell_type": "code",
   "execution_count": 7,
   "metadata": {},
   "outputs": [
    {
     "name": "stdout",
     "output_type": "stream",
     "text": [
      "--2019-04-09 05:01:25--  https://archive.ics.uci.edu/ml/machine-learning-databases/bridges/bridges.names\n",
      "Resolving archive.ics.uci.edu (archive.ics.uci.edu)... 128.195.10.252\n",
      "Connecting to archive.ics.uci.edu (archive.ics.uci.edu)|128.195.10.252|:443... connected.\n",
      "HTTP request sent, awaiting response... 200 OK\n",
      "Length: 4436 (4.3K) [application/x-httpd-php]\n",
      "Saving to: 'bridges.names'\n",
      "\n",
      "bridges.names       100%[===================>]   4.33K  --.-KB/s    in 0s      \n",
      "\n",
      "2019-04-09 05:01:26 (108 MB/s) - 'bridges.names' saved [4436/4436]\n",
      "\n"
     ]
    }
   ],
   "source": [
    "!wget https://archive.ics.uci.edu/ml/machine-learning-databases/bridges/bridges.names"
   ]
  },
  {
   "cell_type": "code",
   "execution_count": 179,
   "metadata": {},
   "outputs": [],
   "source": [
    "import numpy as np\n",
    "import pandas as pd \n",
    "\n",
    "import matplotlib.pyplot as plt "
   ]
  },
  {
   "cell_type": "code",
   "execution_count": 180,
   "metadata": {},
   "outputs": [
    {
     "data": {
      "text/html": [
       "<div>\n",
       "<style scoped>\n",
       "    .dataframe tbody tr th:only-of-type {\n",
       "        vertical-align: middle;\n",
       "    }\n",
       "\n",
       "    .dataframe tbody tr th {\n",
       "        vertical-align: top;\n",
       "    }\n",
       "\n",
       "    .dataframe thead th {\n",
       "        text-align: right;\n",
       "    }\n",
       "</style>\n",
       "<table border=\"1\" class=\"dataframe\">\n",
       "  <thead>\n",
       "    <tr style=\"text-align: right;\">\n",
       "      <th></th>\n",
       "      <th>IDENTIF</th>\n",
       "      <th>RIVER</th>\n",
       "      <th>LOCATION</th>\n",
       "      <th>ERECTED</th>\n",
       "      <th>PURPOSE</th>\n",
       "      <th>LENGTH</th>\n",
       "      <th>LANES</th>\n",
       "      <th>CLEAR-G</th>\n",
       "      <th>T-OR-D</th>\n",
       "      <th>MATERIAL</th>\n",
       "      <th>SPAN</th>\n",
       "      <th>REL-L</th>\n",
       "      <th>TYPE</th>\n",
       "    </tr>\n",
       "  </thead>\n",
       "  <tbody>\n",
       "    <tr>\n",
       "      <th>0</th>\n",
       "      <td>E1</td>\n",
       "      <td>M</td>\n",
       "      <td>3</td>\n",
       "      <td>CRAFTS</td>\n",
       "      <td>HIGHWAY</td>\n",
       "      <td>?</td>\n",
       "      <td>2</td>\n",
       "      <td>N</td>\n",
       "      <td>THROUGH</td>\n",
       "      <td>WOOD</td>\n",
       "      <td>SHORT</td>\n",
       "      <td>S</td>\n",
       "      <td>WOOD</td>\n",
       "    </tr>\n",
       "    <tr>\n",
       "      <th>1</th>\n",
       "      <td>E2</td>\n",
       "      <td>A</td>\n",
       "      <td>25</td>\n",
       "      <td>CRAFTS</td>\n",
       "      <td>HIGHWAY</td>\n",
       "      <td>MEDIUM</td>\n",
       "      <td>2</td>\n",
       "      <td>N</td>\n",
       "      <td>THROUGH</td>\n",
       "      <td>WOOD</td>\n",
       "      <td>SHORT</td>\n",
       "      <td>S</td>\n",
       "      <td>WOOD</td>\n",
       "    </tr>\n",
       "    <tr>\n",
       "      <th>2</th>\n",
       "      <td>E3</td>\n",
       "      <td>A</td>\n",
       "      <td>39</td>\n",
       "      <td>CRAFTS</td>\n",
       "      <td>AQUEDUCT</td>\n",
       "      <td>?</td>\n",
       "      <td>1</td>\n",
       "      <td>N</td>\n",
       "      <td>THROUGH</td>\n",
       "      <td>WOOD</td>\n",
       "      <td>?</td>\n",
       "      <td>S</td>\n",
       "      <td>WOOD</td>\n",
       "    </tr>\n",
       "    <tr>\n",
       "      <th>3</th>\n",
       "      <td>E5</td>\n",
       "      <td>A</td>\n",
       "      <td>29</td>\n",
       "      <td>CRAFTS</td>\n",
       "      <td>HIGHWAY</td>\n",
       "      <td>MEDIUM</td>\n",
       "      <td>2</td>\n",
       "      <td>N</td>\n",
       "      <td>THROUGH</td>\n",
       "      <td>WOOD</td>\n",
       "      <td>SHORT</td>\n",
       "      <td>S</td>\n",
       "      <td>WOOD</td>\n",
       "    </tr>\n",
       "    <tr>\n",
       "      <th>4</th>\n",
       "      <td>E6</td>\n",
       "      <td>M</td>\n",
       "      <td>23</td>\n",
       "      <td>CRAFTS</td>\n",
       "      <td>HIGHWAY</td>\n",
       "      <td>?</td>\n",
       "      <td>2</td>\n",
       "      <td>N</td>\n",
       "      <td>THROUGH</td>\n",
       "      <td>WOOD</td>\n",
       "      <td>?</td>\n",
       "      <td>S</td>\n",
       "      <td>WOOD</td>\n",
       "    </tr>\n",
       "  </tbody>\n",
       "</table>\n",
       "</div>"
      ],
      "text/plain": [
       "  IDENTIF RIVER LOCATION ERECTED   PURPOSE  LENGTH LANES CLEAR-G   T-OR-D  \\\n",
       "0      E1     M        3  CRAFTS   HIGHWAY       ?     2       N  THROUGH   \n",
       "1      E2     A       25  CRAFTS   HIGHWAY  MEDIUM     2       N  THROUGH   \n",
       "2      E3     A       39  CRAFTS  AQUEDUCT       ?     1       N  THROUGH   \n",
       "3      E5     A       29  CRAFTS   HIGHWAY  MEDIUM     2       N  THROUGH   \n",
       "4      E6     M       23  CRAFTS   HIGHWAY       ?     2       N  THROUGH   \n",
       "\n",
       "  MATERIAL   SPAN REL-L  TYPE  \n",
       "0     WOOD  SHORT     S  WOOD  \n",
       "1     WOOD  SHORT     S  WOOD  \n",
       "2     WOOD      ?     S  WOOD  \n",
       "3     WOOD  SHORT     S  WOOD  \n",
       "4     WOOD      ?     S  WOOD  "
      ]
     },
     "execution_count": 180,
     "metadata": {},
     "output_type": "execute_result"
    }
   ],
   "source": [
    "column_names = [\"IDENTIF\" , \"RIVER\" , \"LOCATION\" , \"ERECTED\" , \"PURPOSE\" , \"LENGTH\" , \"LANES\" , \"CLEAR-G\" , \"T-OR-D\" ,\n",
    "               \"MATERIAL\" , \"SPAN\" , \"REL-L\" , \"TYPE\"]\n",
    "\n",
    "Data = pd.read_csv(\"bridges.data.version2\" , sep = \",\" , header = None , names = column_names)\n",
    "\n",
    "Data.head()"
   ]
  },
  {
   "cell_type": "code",
   "execution_count": 181,
   "metadata": {},
   "outputs": [
    {
     "data": {
      "text/html": [
       "<div>\n",
       "<style scoped>\n",
       "    .dataframe tbody tr th:only-of-type {\n",
       "        vertical-align: middle;\n",
       "    }\n",
       "\n",
       "    .dataframe tbody tr th {\n",
       "        vertical-align: top;\n",
       "    }\n",
       "\n",
       "    .dataframe thead th {\n",
       "        text-align: right;\n",
       "    }\n",
       "</style>\n",
       "<table border=\"1\" class=\"dataframe\">\n",
       "  <thead>\n",
       "    <tr style=\"text-align: right;\">\n",
       "      <th></th>\n",
       "      <th>IDENTIF</th>\n",
       "      <th>RIVER</th>\n",
       "      <th>LOCATION</th>\n",
       "      <th>ERECTED</th>\n",
       "      <th>PURPOSE</th>\n",
       "      <th>LENGTH</th>\n",
       "      <th>LANES</th>\n",
       "      <th>CLEAR-G</th>\n",
       "      <th>T-OR-D</th>\n",
       "      <th>MATERIAL</th>\n",
       "      <th>SPAN</th>\n",
       "      <th>REL-L</th>\n",
       "      <th>TYPE</th>\n",
       "    </tr>\n",
       "  </thead>\n",
       "  <tbody>\n",
       "    <tr>\n",
       "      <th>count</th>\n",
       "      <td>108</td>\n",
       "      <td>108</td>\n",
       "      <td>108</td>\n",
       "      <td>108</td>\n",
       "      <td>108</td>\n",
       "      <td>108</td>\n",
       "      <td>108</td>\n",
       "      <td>108</td>\n",
       "      <td>108</td>\n",
       "      <td>108</td>\n",
       "      <td>108</td>\n",
       "      <td>108</td>\n",
       "      <td>108</td>\n",
       "    </tr>\n",
       "    <tr>\n",
       "      <th>unique</th>\n",
       "      <td>108</td>\n",
       "      <td>4</td>\n",
       "      <td>55</td>\n",
       "      <td>4</td>\n",
       "      <td>4</td>\n",
       "      <td>4</td>\n",
       "      <td>5</td>\n",
       "      <td>3</td>\n",
       "      <td>3</td>\n",
       "      <td>4</td>\n",
       "      <td>4</td>\n",
       "      <td>4</td>\n",
       "      <td>8</td>\n",
       "    </tr>\n",
       "    <tr>\n",
       "      <th>top</th>\n",
       "      <td>E85</td>\n",
       "      <td>A</td>\n",
       "      <td>39</td>\n",
       "      <td>MATURE</td>\n",
       "      <td>HIGHWAY</td>\n",
       "      <td>MEDIUM</td>\n",
       "      <td>2</td>\n",
       "      <td>G</td>\n",
       "      <td>THROUGH</td>\n",
       "      <td>STEEL</td>\n",
       "      <td>MEDIUM</td>\n",
       "      <td>F</td>\n",
       "      <td>SIMPLE-T</td>\n",
       "    </tr>\n",
       "    <tr>\n",
       "      <th>freq</th>\n",
       "      <td>1</td>\n",
       "      <td>49</td>\n",
       "      <td>5</td>\n",
       "      <td>54</td>\n",
       "      <td>71</td>\n",
       "      <td>48</td>\n",
       "      <td>61</td>\n",
       "      <td>80</td>\n",
       "      <td>87</td>\n",
       "      <td>79</td>\n",
       "      <td>53</td>\n",
       "      <td>58</td>\n",
       "      <td>44</td>\n",
       "    </tr>\n",
       "  </tbody>\n",
       "</table>\n",
       "</div>"
      ],
      "text/plain": [
       "       IDENTIF RIVER LOCATION ERECTED  PURPOSE  LENGTH LANES CLEAR-G   T-OR-D  \\\n",
       "count      108   108      108     108      108     108   108     108      108   \n",
       "unique     108     4       55       4        4       4     5       3        3   \n",
       "top        E85     A       39  MATURE  HIGHWAY  MEDIUM     2       G  THROUGH   \n",
       "freq         1    49        5      54       71      48    61      80       87   \n",
       "\n",
       "       MATERIAL    SPAN REL-L      TYPE  \n",
       "count       108     108   108       108  \n",
       "unique        4       4     4         8  \n",
       "top       STEEL  MEDIUM     F  SIMPLE-T  \n",
       "freq         79      53    58        44  "
      ]
     },
     "execution_count": 181,
     "metadata": {},
     "output_type": "execute_result"
    }
   ],
   "source": [
    "Data.describe()"
   ]
  },
  {
   "cell_type": "code",
   "execution_count": 182,
   "metadata": {},
   "outputs": [
    {
     "name": "stdout",
     "output_type": "stream",
     "text": [
      "<class 'pandas.core.frame.DataFrame'>\n",
      "RangeIndex: 108 entries, 0 to 107\n",
      "Data columns (total 13 columns):\n",
      "IDENTIF     108 non-null object\n",
      "RIVER       108 non-null object\n",
      "LOCATION    108 non-null object\n",
      "ERECTED     108 non-null object\n",
      "PURPOSE     108 non-null object\n",
      "LENGTH      108 non-null object\n",
      "LANES       108 non-null object\n",
      "CLEAR-G     108 non-null object\n",
      "T-OR-D      108 non-null object\n",
      "MATERIAL    108 non-null object\n",
      "SPAN        108 non-null object\n",
      "REL-L       108 non-null object\n",
      "TYPE        108 non-null object\n",
      "dtypes: object(13)\n",
      "memory usage: 11.0+ KB\n"
     ]
    }
   ],
   "source": [
    "Data.info()"
   ]
  },
  {
   "cell_type": "code",
   "execution_count": 183,
   "metadata": {},
   "outputs": [
    {
     "data": {
      "text/plain": [
       "IDENTIF     False\n",
       "RIVER       False\n",
       "LOCATION    False\n",
       "ERECTED     False\n",
       "PURPOSE     False\n",
       "LENGTH      False\n",
       "LANES       False\n",
       "CLEAR-G     False\n",
       "T-OR-D      False\n",
       "MATERIAL    False\n",
       "SPAN        False\n",
       "REL-L       False\n",
       "TYPE        False\n",
       "dtype: bool"
      ]
     },
     "execution_count": 183,
     "metadata": {},
     "output_type": "execute_result"
    }
   ],
   "source": [
    "Data.isna().any()"
   ]
  },
  {
   "cell_type": "code",
   "execution_count": 184,
   "metadata": {},
   "outputs": [
    {
     "data": {
      "text/plain": [
       "IDENTIF     False\n",
       "RIVER       False\n",
       "LOCATION    False\n",
       "ERECTED     False\n",
       "PURPOSE     False\n",
       "LENGTH      False\n",
       "LANES       False\n",
       "CLEAR-G     False\n",
       "T-OR-D      False\n",
       "MATERIAL    False\n",
       "SPAN        False\n",
       "REL-L       False\n",
       "TYPE        False\n",
       "dtype: bool"
      ]
     },
     "execution_count": 184,
     "metadata": {},
     "output_type": "execute_result"
    }
   ],
   "source": [
    "Data.isnull().any()"
   ]
  },
  {
   "cell_type": "code",
   "execution_count": 185,
   "metadata": {},
   "outputs": [
    {
     "name": "stdout",
     "output_type": "stream",
     "text": [
      "4\n",
      "55\n",
      "4\n",
      "4\n",
      "4\n",
      "5\n",
      "3\n",
      "3\n",
      "4\n",
      "4\n",
      "4\n"
     ]
    },
    {
     "data": {
      "text/plain": [
       "{'?', 'ARCH', 'CANTILEV', 'CONT-T', 'NIL', 'SIMPLE-T', 'SUSPEN', 'WOOD'}"
      ]
     },
     "execution_count": 185,
     "metadata": {},
     "output_type": "execute_result"
    }
   ],
   "source": [
    "print(len(set(Data[\"RIVER\"])))\n",
    "print(len(set(Data[\"LOCATION\"])))\n",
    "print(len(set(Data[\"ERECTED\"])))\n",
    "print(len(set(Data[\"PURPOSE\"])))\n",
    "print(len(set(Data[\"LENGTH\"])))\n",
    "print(len(set(Data[\"LANES\"])))\n",
    "print(len(set(Data[\"CLEAR-G\"])))\n",
    "print(len(set(Data[\"T-OR-D\"])))\n",
    "print(len(set(Data[\"MATERIAL\"])))\n",
    "print(len(set(Data[\"SPAN\"])))\n",
    "print(len(set(Data[\"REL-L\"])))\n",
    "\n",
    "set(Data[\"TYPE\"])"
   ]
  },
  {
   "cell_type": "code",
   "execution_count": 186,
   "metadata": {},
   "outputs": [],
   "source": [
    "Data = Data[Data.TYPE != \"?\"]"
   ]
  },
  {
   "cell_type": "code",
   "execution_count": 187,
   "metadata": {},
   "outputs": [
    {
     "data": {
      "text/plain": [
       "{'ARCH', 'CANTILEV', 'CONT-T', 'NIL', 'SIMPLE-T', 'SUSPEN', 'WOOD'}"
      ]
     },
     "execution_count": 187,
     "metadata": {},
     "output_type": "execute_result"
    }
   ],
   "source": [
    "set(Data[\"TYPE\"])"
   ]
  },
  {
   "cell_type": "code",
   "execution_count": 188,
   "metadata": {},
   "outputs": [
    {
     "name": "stdout",
     "output_type": "stream",
     "text": [
      "(106, 13)\n"
     ]
    }
   ],
   "source": [
    "print(Data.shape)"
   ]
  },
  {
   "cell_type": "code",
   "execution_count": 189,
   "metadata": {},
   "outputs": [
    {
     "data": {
      "text/html": [
       "<div>\n",
       "<style scoped>\n",
       "    .dataframe tbody tr th:only-of-type {\n",
       "        vertical-align: middle;\n",
       "    }\n",
       "\n",
       "    .dataframe tbody tr th {\n",
       "        vertical-align: top;\n",
       "    }\n",
       "\n",
       "    .dataframe thead th {\n",
       "        text-align: right;\n",
       "    }\n",
       "</style>\n",
       "<table border=\"1\" class=\"dataframe\">\n",
       "  <thead>\n",
       "    <tr style=\"text-align: right;\">\n",
       "      <th></th>\n",
       "      <th>IDENTIF</th>\n",
       "      <th>RIVER</th>\n",
       "      <th>LOCATION</th>\n",
       "      <th>ERECTED</th>\n",
       "      <th>PURPOSE</th>\n",
       "      <th>LENGTH</th>\n",
       "      <th>LANES</th>\n",
       "      <th>CLEAR-G</th>\n",
       "      <th>T-OR-D</th>\n",
       "      <th>MATERIAL</th>\n",
       "      <th>SPAN</th>\n",
       "      <th>REL-L</th>\n",
       "      <th>TYPE</th>\n",
       "    </tr>\n",
       "  </thead>\n",
       "  <tbody>\n",
       "    <tr>\n",
       "      <th>0</th>\n",
       "      <td>E1</td>\n",
       "      <td>M</td>\n",
       "      <td>3</td>\n",
       "      <td>CRAFTS</td>\n",
       "      <td>HIGHWAY</td>\n",
       "      <td>?</td>\n",
       "      <td>2</td>\n",
       "      <td>N</td>\n",
       "      <td>THROUGH</td>\n",
       "      <td>WOOD</td>\n",
       "      <td>SHORT</td>\n",
       "      <td>S</td>\n",
       "      <td>WOOD</td>\n",
       "    </tr>\n",
       "    <tr>\n",
       "      <th>1</th>\n",
       "      <td>E2</td>\n",
       "      <td>A</td>\n",
       "      <td>25</td>\n",
       "      <td>CRAFTS</td>\n",
       "      <td>HIGHWAY</td>\n",
       "      <td>MEDIUM</td>\n",
       "      <td>2</td>\n",
       "      <td>N</td>\n",
       "      <td>THROUGH</td>\n",
       "      <td>WOOD</td>\n",
       "      <td>SHORT</td>\n",
       "      <td>S</td>\n",
       "      <td>WOOD</td>\n",
       "    </tr>\n",
       "    <tr>\n",
       "      <th>2</th>\n",
       "      <td>E3</td>\n",
       "      <td>A</td>\n",
       "      <td>39</td>\n",
       "      <td>CRAFTS</td>\n",
       "      <td>AQUEDUCT</td>\n",
       "      <td>?</td>\n",
       "      <td>1</td>\n",
       "      <td>N</td>\n",
       "      <td>THROUGH</td>\n",
       "      <td>WOOD</td>\n",
       "      <td>?</td>\n",
       "      <td>S</td>\n",
       "      <td>WOOD</td>\n",
       "    </tr>\n",
       "    <tr>\n",
       "      <th>3</th>\n",
       "      <td>E5</td>\n",
       "      <td>A</td>\n",
       "      <td>29</td>\n",
       "      <td>CRAFTS</td>\n",
       "      <td>HIGHWAY</td>\n",
       "      <td>MEDIUM</td>\n",
       "      <td>2</td>\n",
       "      <td>N</td>\n",
       "      <td>THROUGH</td>\n",
       "      <td>WOOD</td>\n",
       "      <td>SHORT</td>\n",
       "      <td>S</td>\n",
       "      <td>WOOD</td>\n",
       "    </tr>\n",
       "    <tr>\n",
       "      <th>4</th>\n",
       "      <td>E6</td>\n",
       "      <td>M</td>\n",
       "      <td>23</td>\n",
       "      <td>CRAFTS</td>\n",
       "      <td>HIGHWAY</td>\n",
       "      <td>?</td>\n",
       "      <td>2</td>\n",
       "      <td>N</td>\n",
       "      <td>THROUGH</td>\n",
       "      <td>WOOD</td>\n",
       "      <td>?</td>\n",
       "      <td>S</td>\n",
       "      <td>WOOD</td>\n",
       "    </tr>\n",
       "  </tbody>\n",
       "</table>\n",
       "</div>"
      ],
      "text/plain": [
       "  IDENTIF RIVER LOCATION ERECTED   PURPOSE  LENGTH LANES CLEAR-G   T-OR-D  \\\n",
       "0      E1     M        3  CRAFTS   HIGHWAY       ?     2       N  THROUGH   \n",
       "1      E2     A       25  CRAFTS   HIGHWAY  MEDIUM     2       N  THROUGH   \n",
       "2      E3     A       39  CRAFTS  AQUEDUCT       ?     1       N  THROUGH   \n",
       "3      E5     A       29  CRAFTS   HIGHWAY  MEDIUM     2       N  THROUGH   \n",
       "4      E6     M       23  CRAFTS   HIGHWAY       ?     2       N  THROUGH   \n",
       "\n",
       "  MATERIAL   SPAN REL-L  TYPE  \n",
       "0     WOOD  SHORT     S  WOOD  \n",
       "1     WOOD  SHORT     S  WOOD  \n",
       "2     WOOD      ?     S  WOOD  \n",
       "3     WOOD  SHORT     S  WOOD  \n",
       "4     WOOD      ?     S  WOOD  "
      ]
     },
     "execution_count": 189,
     "metadata": {},
     "output_type": "execute_result"
    }
   ],
   "source": [
    "Data.head()"
   ]
  },
  {
   "cell_type": "code",
   "execution_count": 190,
   "metadata": {},
   "outputs": [],
   "source": [
    "Data = Data.drop(['IDENTIF'] , axis = 1)\n",
    "Data = Data.drop(['LOCATION'] , axis = 1)"
   ]
  },
  {
   "cell_type": "code",
   "execution_count": 191,
   "metadata": {},
   "outputs": [
    {
     "data": {
      "text/html": [
       "<div>\n",
       "<style scoped>\n",
       "    .dataframe tbody tr th:only-of-type {\n",
       "        vertical-align: middle;\n",
       "    }\n",
       "\n",
       "    .dataframe tbody tr th {\n",
       "        vertical-align: top;\n",
       "    }\n",
       "\n",
       "    .dataframe thead th {\n",
       "        text-align: right;\n",
       "    }\n",
       "</style>\n",
       "<table border=\"1\" class=\"dataframe\">\n",
       "  <thead>\n",
       "    <tr style=\"text-align: right;\">\n",
       "      <th></th>\n",
       "      <th>RIVER</th>\n",
       "      <th>ERECTED</th>\n",
       "      <th>PURPOSE</th>\n",
       "      <th>LENGTH</th>\n",
       "      <th>LANES</th>\n",
       "      <th>CLEAR-G</th>\n",
       "      <th>T-OR-D</th>\n",
       "      <th>MATERIAL</th>\n",
       "      <th>SPAN</th>\n",
       "      <th>REL-L</th>\n",
       "      <th>TYPE</th>\n",
       "    </tr>\n",
       "  </thead>\n",
       "  <tbody>\n",
       "    <tr>\n",
       "      <th>0</th>\n",
       "      <td>M</td>\n",
       "      <td>CRAFTS</td>\n",
       "      <td>HIGHWAY</td>\n",
       "      <td>?</td>\n",
       "      <td>2</td>\n",
       "      <td>N</td>\n",
       "      <td>THROUGH</td>\n",
       "      <td>WOOD</td>\n",
       "      <td>SHORT</td>\n",
       "      <td>S</td>\n",
       "      <td>WOOD</td>\n",
       "    </tr>\n",
       "    <tr>\n",
       "      <th>1</th>\n",
       "      <td>A</td>\n",
       "      <td>CRAFTS</td>\n",
       "      <td>HIGHWAY</td>\n",
       "      <td>MEDIUM</td>\n",
       "      <td>2</td>\n",
       "      <td>N</td>\n",
       "      <td>THROUGH</td>\n",
       "      <td>WOOD</td>\n",
       "      <td>SHORT</td>\n",
       "      <td>S</td>\n",
       "      <td>WOOD</td>\n",
       "    </tr>\n",
       "    <tr>\n",
       "      <th>2</th>\n",
       "      <td>A</td>\n",
       "      <td>CRAFTS</td>\n",
       "      <td>AQUEDUCT</td>\n",
       "      <td>?</td>\n",
       "      <td>1</td>\n",
       "      <td>N</td>\n",
       "      <td>THROUGH</td>\n",
       "      <td>WOOD</td>\n",
       "      <td>?</td>\n",
       "      <td>S</td>\n",
       "      <td>WOOD</td>\n",
       "    </tr>\n",
       "    <tr>\n",
       "      <th>3</th>\n",
       "      <td>A</td>\n",
       "      <td>CRAFTS</td>\n",
       "      <td>HIGHWAY</td>\n",
       "      <td>MEDIUM</td>\n",
       "      <td>2</td>\n",
       "      <td>N</td>\n",
       "      <td>THROUGH</td>\n",
       "      <td>WOOD</td>\n",
       "      <td>SHORT</td>\n",
       "      <td>S</td>\n",
       "      <td>WOOD</td>\n",
       "    </tr>\n",
       "    <tr>\n",
       "      <th>4</th>\n",
       "      <td>M</td>\n",
       "      <td>CRAFTS</td>\n",
       "      <td>HIGHWAY</td>\n",
       "      <td>?</td>\n",
       "      <td>2</td>\n",
       "      <td>N</td>\n",
       "      <td>THROUGH</td>\n",
       "      <td>WOOD</td>\n",
       "      <td>?</td>\n",
       "      <td>S</td>\n",
       "      <td>WOOD</td>\n",
       "    </tr>\n",
       "  </tbody>\n",
       "</table>\n",
       "</div>"
      ],
      "text/plain": [
       "  RIVER ERECTED   PURPOSE  LENGTH LANES CLEAR-G   T-OR-D MATERIAL   SPAN  \\\n",
       "0     M  CRAFTS   HIGHWAY       ?     2       N  THROUGH     WOOD  SHORT   \n",
       "1     A  CRAFTS   HIGHWAY  MEDIUM     2       N  THROUGH     WOOD  SHORT   \n",
       "2     A  CRAFTS  AQUEDUCT       ?     1       N  THROUGH     WOOD      ?   \n",
       "3     A  CRAFTS   HIGHWAY  MEDIUM     2       N  THROUGH     WOOD  SHORT   \n",
       "4     M  CRAFTS   HIGHWAY       ?     2       N  THROUGH     WOOD      ?   \n",
       "\n",
       "  REL-L  TYPE  \n",
       "0     S  WOOD  \n",
       "1     S  WOOD  \n",
       "2     S  WOOD  \n",
       "3     S  WOOD  \n",
       "4     S  WOOD  "
      ]
     },
     "execution_count": 191,
     "metadata": {},
     "output_type": "execute_result"
    }
   ],
   "source": [
    "Data.head()"
   ]
  },
  {
   "cell_type": "code",
   "execution_count": 192,
   "metadata": {},
   "outputs": [
    {
     "name": "stdout",
     "output_type": "stream",
     "text": [
      "LENGTH\n",
      "LANES\n",
      "CLEAR-G\n",
      "T-OR-D\n",
      "SPAN\n",
      "REL-L\n"
     ]
    }
   ],
   "source": [
    "# Finding out the columns with \"?\" values \n",
    "\n",
    "columns = list(Data.columns)\n",
    "\n",
    "for col in columns:\n",
    "    for i in Data[col]:\n",
    "        if i == \"?\":\n",
    "            print(col)\n",
    "            break"
   ]
  },
  {
   "cell_type": "code",
   "execution_count": 193,
   "metadata": {},
   "outputs": [],
   "source": [
    "import operator \n",
    "\n",
    "def GetMostOccuring(column):\n",
    "    vals = list(set(column))\n",
    "    dic = {}\n",
    "    \n",
    "    for i in vals :\n",
    "        dic[i] = Occurance(column , i)\n",
    "        \n",
    "    del dic[\"?\"]\n",
    "    \n",
    "    return max(dic.items(), key=operator.itemgetter(1))[0]\n",
    "        \n",
    "def Occurance(col , i):\n",
    "    occ = 0\n",
    "    for j in col :\n",
    "        if j == i :\n",
    "            occ = occ + 1 \n",
    "    return occ"
   ]
  },
  {
   "cell_type": "code",
   "execution_count": 194,
   "metadata": {},
   "outputs": [],
   "source": [
    "# Lets find out occurances of \"?\" in the dataset and replace them with Mode\n",
    "\n",
    "Data['LENGTH'].replace(to_replace=\"?\", value=GetMostOccuring(Data['LENGTH']), inplace = True)\n",
    "\n",
    "Data['LANES'].replace(to_replace=\"?\", value=GetMostOccuring(Data['LANES']), inplace = True)\n",
    "\n",
    "Data['CLEAR-G'].replace(to_replace=\"?\", value=GetMostOccuring(Data['CLEAR-G']), inplace = True)\n",
    "\n",
    "Data['T-OR-D'].replace(to_replace=\"?\", value=GetMostOccuring(Data['T-OR-D']), inplace = True)\n",
    "\n",
    "Data['SPAN'].replace(to_replace=\"?\", value=GetMostOccuring(Data['SPAN']), inplace = True)\n",
    "\n",
    "Data['REL-L'].replace(to_replace=\"?\", value=GetMostOccuring(Data['REL-L']), inplace = True)"
   ]
  },
  {
   "cell_type": "code",
   "execution_count": 195,
   "metadata": {},
   "outputs": [],
   "source": [
    "# Finding out the columns with \"?\" values \n",
    "\n",
    "columns = list(Data.columns)\n",
    "\n",
    "for col in columns:\n",
    "    for i in Data[col]:\n",
    "        if i == \"?\":\n",
    "            print(col)\n",
    "            break\n",
    "            \n",
    "# All the \"?\" have been filled "
   ]
  },
  {
   "cell_type": "code",
   "execution_count": 196,
   "metadata": {},
   "outputs": [
    {
     "data": {
      "text/html": [
       "<div>\n",
       "<style scoped>\n",
       "    .dataframe tbody tr th:only-of-type {\n",
       "        vertical-align: middle;\n",
       "    }\n",
       "\n",
       "    .dataframe tbody tr th {\n",
       "        vertical-align: top;\n",
       "    }\n",
       "\n",
       "    .dataframe thead th {\n",
       "        text-align: right;\n",
       "    }\n",
       "</style>\n",
       "<table border=\"1\" class=\"dataframe\">\n",
       "  <thead>\n",
       "    <tr style=\"text-align: right;\">\n",
       "      <th></th>\n",
       "      <th>RIVER</th>\n",
       "      <th>ERECTED</th>\n",
       "      <th>PURPOSE</th>\n",
       "      <th>LENGTH</th>\n",
       "      <th>LANES</th>\n",
       "      <th>CLEAR-G</th>\n",
       "      <th>T-OR-D</th>\n",
       "      <th>MATERIAL</th>\n",
       "      <th>SPAN</th>\n",
       "      <th>REL-L</th>\n",
       "      <th>TYPE</th>\n",
       "    </tr>\n",
       "  </thead>\n",
       "  <tbody>\n",
       "    <tr>\n",
       "      <th>0</th>\n",
       "      <td>M</td>\n",
       "      <td>CRAFTS</td>\n",
       "      <td>HIGHWAY</td>\n",
       "      <td>MEDIUM</td>\n",
       "      <td>2</td>\n",
       "      <td>N</td>\n",
       "      <td>THROUGH</td>\n",
       "      <td>WOOD</td>\n",
       "      <td>SHORT</td>\n",
       "      <td>S</td>\n",
       "      <td>WOOD</td>\n",
       "    </tr>\n",
       "    <tr>\n",
       "      <th>1</th>\n",
       "      <td>A</td>\n",
       "      <td>CRAFTS</td>\n",
       "      <td>HIGHWAY</td>\n",
       "      <td>MEDIUM</td>\n",
       "      <td>2</td>\n",
       "      <td>N</td>\n",
       "      <td>THROUGH</td>\n",
       "      <td>WOOD</td>\n",
       "      <td>SHORT</td>\n",
       "      <td>S</td>\n",
       "      <td>WOOD</td>\n",
       "    </tr>\n",
       "    <tr>\n",
       "      <th>2</th>\n",
       "      <td>A</td>\n",
       "      <td>CRAFTS</td>\n",
       "      <td>AQUEDUCT</td>\n",
       "      <td>MEDIUM</td>\n",
       "      <td>1</td>\n",
       "      <td>N</td>\n",
       "      <td>THROUGH</td>\n",
       "      <td>WOOD</td>\n",
       "      <td>MEDIUM</td>\n",
       "      <td>S</td>\n",
       "      <td>WOOD</td>\n",
       "    </tr>\n",
       "    <tr>\n",
       "      <th>3</th>\n",
       "      <td>A</td>\n",
       "      <td>CRAFTS</td>\n",
       "      <td>HIGHWAY</td>\n",
       "      <td>MEDIUM</td>\n",
       "      <td>2</td>\n",
       "      <td>N</td>\n",
       "      <td>THROUGH</td>\n",
       "      <td>WOOD</td>\n",
       "      <td>SHORT</td>\n",
       "      <td>S</td>\n",
       "      <td>WOOD</td>\n",
       "    </tr>\n",
       "    <tr>\n",
       "      <th>4</th>\n",
       "      <td>M</td>\n",
       "      <td>CRAFTS</td>\n",
       "      <td>HIGHWAY</td>\n",
       "      <td>MEDIUM</td>\n",
       "      <td>2</td>\n",
       "      <td>N</td>\n",
       "      <td>THROUGH</td>\n",
       "      <td>WOOD</td>\n",
       "      <td>MEDIUM</td>\n",
       "      <td>S</td>\n",
       "      <td>WOOD</td>\n",
       "    </tr>\n",
       "  </tbody>\n",
       "</table>\n",
       "</div>"
      ],
      "text/plain": [
       "  RIVER ERECTED   PURPOSE  LENGTH LANES CLEAR-G   T-OR-D MATERIAL    SPAN  \\\n",
       "0     M  CRAFTS   HIGHWAY  MEDIUM     2       N  THROUGH     WOOD   SHORT   \n",
       "1     A  CRAFTS   HIGHWAY  MEDIUM     2       N  THROUGH     WOOD   SHORT   \n",
       "2     A  CRAFTS  AQUEDUCT  MEDIUM     1       N  THROUGH     WOOD  MEDIUM   \n",
       "3     A  CRAFTS   HIGHWAY  MEDIUM     2       N  THROUGH     WOOD   SHORT   \n",
       "4     M  CRAFTS   HIGHWAY  MEDIUM     2       N  THROUGH     WOOD  MEDIUM   \n",
       "\n",
       "  REL-L  TYPE  \n",
       "0     S  WOOD  \n",
       "1     S  WOOD  \n",
       "2     S  WOOD  \n",
       "3     S  WOOD  \n",
       "4     S  WOOD  "
      ]
     },
     "execution_count": 196,
     "metadata": {},
     "output_type": "execute_result"
    }
   ],
   "source": [
    "Data.head()"
   ]
  },
  {
   "cell_type": "code",
   "execution_count": 197,
   "metadata": {},
   "outputs": [],
   "source": [
    "Data['LANES'] = Data['LANES'].astype(np.float32)"
   ]
  },
  {
   "cell_type": "code",
   "execution_count": 198,
   "metadata": {},
   "outputs": [
    {
     "data": {
      "text/html": [
       "<div>\n",
       "<style scoped>\n",
       "    .dataframe tbody tr th:only-of-type {\n",
       "        vertical-align: middle;\n",
       "    }\n",
       "\n",
       "    .dataframe tbody tr th {\n",
       "        vertical-align: top;\n",
       "    }\n",
       "\n",
       "    .dataframe thead th {\n",
       "        text-align: right;\n",
       "    }\n",
       "</style>\n",
       "<table border=\"1\" class=\"dataframe\">\n",
       "  <thead>\n",
       "    <tr style=\"text-align: right;\">\n",
       "      <th></th>\n",
       "      <th>RIVER</th>\n",
       "      <th>ERECTED</th>\n",
       "      <th>PURPOSE</th>\n",
       "      <th>LENGTH</th>\n",
       "      <th>LANES</th>\n",
       "      <th>CLEAR-G</th>\n",
       "      <th>T-OR-D</th>\n",
       "      <th>MATERIAL</th>\n",
       "      <th>SPAN</th>\n",
       "      <th>REL-L</th>\n",
       "      <th>TYPE</th>\n",
       "    </tr>\n",
       "  </thead>\n",
       "  <tbody>\n",
       "    <tr>\n",
       "      <th>0</th>\n",
       "      <td>1</td>\n",
       "      <td>0</td>\n",
       "      <td>1</td>\n",
       "      <td>1</td>\n",
       "      <td>2.0</td>\n",
       "      <td>1</td>\n",
       "      <td>1</td>\n",
       "      <td>2</td>\n",
       "      <td>2</td>\n",
       "      <td>1</td>\n",
       "      <td>WOOD</td>\n",
       "    </tr>\n",
       "    <tr>\n",
       "      <th>1</th>\n",
       "      <td>0</td>\n",
       "      <td>0</td>\n",
       "      <td>1</td>\n",
       "      <td>1</td>\n",
       "      <td>2.0</td>\n",
       "      <td>1</td>\n",
       "      <td>1</td>\n",
       "      <td>2</td>\n",
       "      <td>2</td>\n",
       "      <td>1</td>\n",
       "      <td>WOOD</td>\n",
       "    </tr>\n",
       "    <tr>\n",
       "      <th>2</th>\n",
       "      <td>0</td>\n",
       "      <td>0</td>\n",
       "      <td>0</td>\n",
       "      <td>1</td>\n",
       "      <td>1.0</td>\n",
       "      <td>1</td>\n",
       "      <td>1</td>\n",
       "      <td>2</td>\n",
       "      <td>1</td>\n",
       "      <td>1</td>\n",
       "      <td>WOOD</td>\n",
       "    </tr>\n",
       "    <tr>\n",
       "      <th>3</th>\n",
       "      <td>0</td>\n",
       "      <td>0</td>\n",
       "      <td>1</td>\n",
       "      <td>1</td>\n",
       "      <td>2.0</td>\n",
       "      <td>1</td>\n",
       "      <td>1</td>\n",
       "      <td>2</td>\n",
       "      <td>2</td>\n",
       "      <td>1</td>\n",
       "      <td>WOOD</td>\n",
       "    </tr>\n",
       "    <tr>\n",
       "      <th>4</th>\n",
       "      <td>1</td>\n",
       "      <td>0</td>\n",
       "      <td>1</td>\n",
       "      <td>1</td>\n",
       "      <td>2.0</td>\n",
       "      <td>1</td>\n",
       "      <td>1</td>\n",
       "      <td>2</td>\n",
       "      <td>1</td>\n",
       "      <td>1</td>\n",
       "      <td>WOOD</td>\n",
       "    </tr>\n",
       "  </tbody>\n",
       "</table>\n",
       "</div>"
      ],
      "text/plain": [
       "   RIVER  ERECTED  PURPOSE  LENGTH  LANES  CLEAR-G  T-OR-D  MATERIAL  SPAN  \\\n",
       "0      1        0        1       1    2.0        1       1         2     2   \n",
       "1      0        0        1       1    2.0        1       1         2     2   \n",
       "2      0        0        0       1    1.0        1       1         2     1   \n",
       "3      0        0        1       1    2.0        1       1         2     2   \n",
       "4      1        0        1       1    2.0        1       1         2     1   \n",
       "\n",
       "   REL-L  TYPE  \n",
       "0      1  WOOD  \n",
       "1      1  WOOD  \n",
       "2      1  WOOD  \n",
       "3      1  WOOD  \n",
       "4      1  WOOD  "
      ]
     },
     "execution_count": 198,
     "metadata": {},
     "output_type": "execute_result"
    }
   ],
   "source": [
    "from sklearn.preprocessing import LabelEncoder \n",
    "\n",
    "Encoder = LabelEncoder()\n",
    "\n",
    "obj_columns = ['RIVER' , 'ERECTED' , 'PURPOSE' , 'LENGTH' , 'CLEAR-G' , 'T-OR-D' , 'MATERIAL' , 'SPAN' , 'REL-L']\n",
    "\n",
    "for i in obj_columns :\n",
    "    Data[i] = Encoder.fit_transform(Data[i])\n",
    "    \n",
    "Data.head()"
   ]
  },
  {
   "cell_type": "code",
   "execution_count": 199,
   "metadata": {},
   "outputs": [],
   "source": [
    "Data['TYPE'] = Encoder.fit_transform(Data['TYPE'])"
   ]
  },
  {
   "cell_type": "code",
   "execution_count": 200,
   "metadata": {},
   "outputs": [
    {
     "name": "stdout",
     "output_type": "stream",
     "text": [
      "(106, 10)\n",
      "(106,)\n"
     ]
    }
   ],
   "source": [
    "X = Data.iloc[: , :-1].values.astype(np.float32)\n",
    "Y = Data.iloc[: , -1].values\n",
    "\n",
    "print(X.shape)\n",
    "print(Y.shape)"
   ]
  },
  {
   "cell_type": "markdown",
   "metadata": {},
   "source": [
    "from sklearn.decomposition import PCA \n",
    "\n",
    "pca = PCA(n_components = 4)\n",
    "\n",
    "X = pca.fit_transform(X)\n",
    "\n",
    "print(X.shape)"
   ]
  },
  {
   "cell_type": "code",
   "execution_count": 201,
   "metadata": {},
   "outputs": [],
   "source": [
    "from sklearn.utils import shuffle \n",
    "\n",
    "def train_test_split(X , Y , test_size):\n",
    "    X , Y = shuffle(X , Y)\n",
    "    test_split = int(len(X)*test_size)\n",
    "    \n",
    "    return X[:-1*test_split] , X[-1*test_split:] , Y[:-1*test_split] , X[-1*test_split:]"
   ]
  },
  {
   "cell_type": "code",
   "execution_count": 202,
   "metadata": {},
   "outputs": [
    {
     "name": "stdout",
     "output_type": "stream",
     "text": [
      "(85, 10)\n",
      "(85,)\n",
      "(21, 10)\n",
      "(21, 10)\n"
     ]
    }
   ],
   "source": [
    "Xtrain , Xtest , Ytrain , Ytest = train_test_split(X , Y , test_size = 0.2)\n",
    "\n",
    "print(Xtrain.shape)\n",
    "print(Ytrain.shape)\n",
    "\n",
    "print(Xtest.shape)\n",
    "print(Ytest.shape)"
   ]
  },
  {
   "cell_type": "code",
   "execution_count": 203,
   "metadata": {},
   "outputs": [],
   "source": [
    "def StandardScaler(Xtrain , Ytrain , Xtest , Ytest):\n",
    "    print(\" Transforming the way you need ! ;) \")\n",
    "    \n",
    "    mu = Xtrain.mean(axis=0)\n",
    "    std = Xtrain.std(axis=0)\n",
    "    \n",
    "    np.place(std, std == 0, 1)\n",
    "    \n",
    "    Xtrain = (Xtrain - mu) / std\n",
    "    Xtest = (Xtest - mu) / std\n",
    "    \n",
    "    return Xtrain, Xtest , Ytrain, Ytest"
   ]
  },
  {
   "cell_type": "code",
   "execution_count": 204,
   "metadata": {},
   "outputs": [
    {
     "name": "stdout",
     "output_type": "stream",
     "text": [
      " Transforming the way you need ! ;) \n"
     ]
    }
   ],
   "source": [
    "Xtrain , Xtest , Ytrain , Ytest = StandardScaler(Xtrain , Ytrain , Xtest , Ytest)"
   ]
  },
  {
   "cell_type": "code",
   "execution_count": 205,
   "metadata": {},
   "outputs": [],
   "source": [
    "import theano\n",
    "import theano.tensor as T\n",
    "from sklearn.utils import shuffle\n",
    "\n",
    "\n",
    "def init_weight(M1, M2):\n",
    "    return np.random.randn(M1, M2) * np.sqrt(2.0 / M1)\n",
    "\n",
    "\n",
    "class HiddenLayer(object):\n",
    "    def __init__(self, M1, M2, f):\n",
    "        self.M1 = M1\n",
    "        self.M2 = M2\n",
    "        self.f = f\n",
    "        W = init_weight(M1, M2)\n",
    "        b = np.zeros(M2)\n",
    "        self.W = theano.shared(W)\n",
    "        self.b = theano.shared(b)\n",
    "        self.params = [self.W, self.b]\n",
    "\n",
    "    def forward(self, X):\n",
    "        if self.f == T.nnet.relu:\n",
    "            return self.f(X.dot(self.W) + self.b, alpha=0.1)\n",
    "        return self.f(X.dot(self.W) + self.b)\n",
    "\n",
    "\n",
    "class ANN(object):\n",
    "    def __init__(self, hidden_layer_sizes):\n",
    "        self.hidden_layer_sizes = hidden_layer_sizes\n",
    "\n",
    "    def fit(self, X, Y, activation=T.nnet.relu, learning_rate=1e-3, mu=0.0, reg=0, epochs=100, batch_sz=None, print_period=100, show_fig=True):\n",
    "        X = X.astype(np.float32)\n",
    "        Y = Y.astype(np.int32)\n",
    "\n",
    "        N, D = X.shape\n",
    "        self.layers = []\n",
    "        M1 = D\n",
    "        for M2 in self.hidden_layer_sizes:\n",
    "            h = HiddenLayer(M1, M2, activation)\n",
    "            self.layers.append(h)\n",
    "            M1 = M2\n",
    "\n",
    "        K = len(set(Y))\n",
    "\n",
    "        h = HiddenLayer(M1, K, T.nnet.softmax)\n",
    "        self.layers.append(h)\n",
    "\n",
    "        if batch_sz is None:\n",
    "            batch_sz = N\n",
    "\n",
    "        self.params = []\n",
    "        for h in self.layers:\n",
    "            self.params += h.params\n",
    "\n",
    "        dparams = [theano.shared(np.zeros_like(p.get_value())) for p in self.params]\n",
    "\n",
    "        thX = T.matrix('X')\n",
    "        thY = T.ivector('Y')\n",
    "        p_y_given_x = self.forward(thX)\n",
    "\n",
    "        rcost = reg*T.mean([(p*p).sum() for p in self.params])\n",
    "        cost = -T.mean(T.log(p_y_given_x[T.arange(thY.shape[0]), thY])) #+ rcost\n",
    "        prediction = T.argmax(p_y_given_x, axis=1)\n",
    "        grads = T.grad(cost, self.params)\n",
    "\n",
    "        updates = [\n",
    "            (p, p + mu*dp - learning_rate*g) for p, dp, g in zip(self.params, dparams, grads)\n",
    "        ] + [\n",
    "            (dp, mu*dp - learning_rate*g) for dp, g in zip(dparams, grads)\n",
    "        ]\n",
    "\n",
    "        train_op = theano.function(\n",
    "            inputs=[thX, thY],\n",
    "            outputs=[cost, prediction],\n",
    "            updates=updates,\n",
    "        )\n",
    "\n",
    "        self.predict_op = theano.function(\n",
    "            inputs=[thX],\n",
    "            outputs=prediction,\n",
    "        )\n",
    "\n",
    "        n_batches = N // batch_sz\n",
    "        costs = []\n",
    "        for i in range(epochs):\n",
    "            if n_batches > 1:\n",
    "                X, Y = shuffle(X, Y)\n",
    "            for j in range(n_batches):\n",
    "                Xbatch = X[j*batch_sz:(j*batch_sz+batch_sz)]\n",
    "                Ybatch = Y[j*batch_sz:(j*batch_sz+batch_sz)]\n",
    "\n",
    "                c, p = train_op(Xbatch, Ybatch)\n",
    "                costs.append(c)\n",
    "                if (j+1) % print_period == 0:\n",
    "                    print(\"i:\", i, \"j:\", j, \"nb:\", n_batches, \"cost:\", c)\n",
    "        \n",
    "        if show_fig:\n",
    "            plt.plot(costs)\n",
    "            plt.show()\n",
    "\n",
    "    def forward(self, X):\n",
    "        out = X\n",
    "        for h in self.layers:\n",
    "            out = h.forward(out)\n",
    "        return out\n",
    "\n",
    "    def score(self, X, Y):\n",
    "        P = self.predict_op(X)\n",
    "        return np.mean(Y == P)\n",
    "\n",
    "    def predict(self, X):\n",
    "        return self.predict_op(X)"
   ]
  },
  {
   "cell_type": "code",
   "execution_count": 206,
   "metadata": {},
   "outputs": [
    {
     "data": {
      "image/png": "[encoded data removed]",
      "text/plain": [
       "<Figure size 432x288 with 1 Axes>"
      ]
     },
     "metadata": {},
     "output_type": "display_data"
    }
   ],
   "source": [
    "model = ANN([128 , 256 , 7])\n",
    "\n",
    "model.fit(Xtrain , Ytrain , epochs = 500 , print_period = 100 , batch_sz = 32 , show_fig = True)"
   ]
  },
  {
   "cell_type": "code",
   "execution_count": 207,
   "metadata": {},
   "outputs": [],
   "source": [
    "Ypred = model.predict(Xtrain)"
   ]
  },
  {
   "cell_type": "code",
   "execution_count": 208,
   "metadata": {},
   "outputs": [
    {
     "name": "stdout",
     "output_type": "stream",
     "text": [
      "0.8235294117647058\n"
     ]
    }
   ],
   "source": [
    "print(model.score(Xtrain , Ytrain))"
   ]
  },
  {
   "cell_type": "code",
   "execution_count": 209,
   "metadata": {},
   "outputs": [
    {
     "data": {
      "text/plain": [
       "<matplotlib.axes._subplots.AxesSubplot at 0x3fff4c6e44e0>"
      ]
     },
     "execution_count": 209,
     "metadata": {},
     "output_type": "execute_result"
    },
    {
     "data": {
      "image/png": "[encoded data removed]",
      "text/plain": [
       "<Figure size 432x288 with 2 Axes>"
      ]
     },
     "metadata": {},
     "output_type": "display_data"
    }
   ],
   "source": [
    "from sklearn.metrics import confusion_matrix\n",
    "import seaborn as sns \n",
    "\n",
    "cm = confusion_matrix(Ytrain, Ypred)\n",
    "\n",
    "sns.heatmap(cm , annot=True)"
   ]
  }
 ],
 "metadata": {
  "kernelspec": {
   "display_name": "Python 3",
   "language": "python",
   "name": "python3"
  },
  "language_info": {
   "codemirror_mode": {
    "name": "ipython",
    "version": 3
   },
   "file_extension": ".py",
   "mimetype": "text/x-python",
   "name": "python",
   "nbconvert_exporter": "python",
   "pygments_lexer": "ipython3",
   "version": "3.6.5"
  }
 },
 "nbformat": 4,
 "nbformat_minor": 2
}
